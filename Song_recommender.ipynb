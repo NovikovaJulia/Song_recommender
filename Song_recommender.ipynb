{
 "cells": [
  {
   "cell_type": "markdown",
   "id": "116b4145",
   "metadata": {},
   "source": [
    "<h1>Song recommender</h1>"
   ]
  },
  {
   "cell_type": "markdown",
   "id": "27b8d3ca",
   "metadata": {},
   "source": [
    "**Let's go through all the steps of our pipeline:**\n",
    "\n",
    "1) User inputs a song\n",
    "\n",
    "2) Get user's song audio features \n",
    "\n",
    "3) Predict user's song cluster membership (using the best clustering model)\n",
    "\n",
    "4) Is the user's song included in the hot songs database?\n",
    "\n",
    " - If yes: Recommend another song from the same cluster from the hot_songs database\n",
    "        \n",
    " - If no: Recommend another song from the same cluster from the not_hot_songs database\n",
    "\n",
    "5) The user wants another reccomendation?\n",
    "\n",
    " - If yes: Start again from the first step\n",
    "        \n",
    " - If no: End"
   ]
  },
  {
   "cell_type": "code",
   "execution_count": 1,
   "id": "a7c93b8a",
   "metadata": {},
   "outputs": [],
   "source": [
    "from config import *\n",
    "import spotipy\n",
    "import json\n",
    "import pandas as pd\n",
    "from spotipy.oauth2 import SpotifyClientCredentials\n",
    "import pickle\n",
    "from sklearn.cluster import KMeans"
   ]
  },
  {
   "cell_type": "code",
   "execution_count": 2,
   "id": "e58ad5d8",
   "metadata": {},
   "outputs": [],
   "source": [
    "sp = spotipy.Spotify(auth_manager=SpotifyClientCredentials(client_id= Client_ID, client_secret= Client_Secret))"
   ]
  },
  {
   "cell_type": "code",
   "execution_count": 3,
   "id": "0f5ab0d1",
   "metadata": {},
   "outputs": [],
   "source": [
    "song_db=pd.read_csv(\"final_dataset_with_prediction.csv\")"
   ]
  },
  {
   "cell_type": "code",
   "execution_count": 4,
   "id": "e5ff3d64",
   "metadata": {},
   "outputs": [],
   "source": [
    "def load(filename = \"filename.pickle\"): \n",
    "    try: \n",
    "        with open(filename, \"rb\") as file: \n",
    "            return pickle.load(file) \n",
    "    except FileNotFoundError: \n",
    "        print(\"File not found!\") "
   ]
  },
  {
   "cell_type": "code",
   "execution_count": 5,
   "id": "4771bf6d",
   "metadata": {},
   "outputs": [],
   "source": [
    "scalar = load(\"scalers/standard.pickle\")"
   ]
  },
  {
   "cell_type": "code",
   "execution_count": 6,
   "id": "328bfdb1",
   "metadata": {},
   "outputs": [],
   "source": [
    "model = load(\"models/kmeans_7.pickle\")"
   ]
  },
  {
   "cell_type": "code",
   "execution_count": 7,
   "id": "4ea9d1ed",
   "metadata": {},
   "outputs": [],
   "source": [
    "def search_song(title, artist, ask_for_options=True):\n",
    "    sp = spotipy.Spotify(auth_manager=SpotifyClientCredentials(client_id= Client_ID, client_secret= Client_Secret))\n",
    "    print(\"Searching for song {} of artist {}\".format(title,artist))\n",
    "    results = sp.search(q=\"track:\"+title+\" artist:\"+artist,limit=10)\n",
    "    if ask_for_options == True:\n",
    "        if len(results['tracks']['items']) > 1:\n",
    "            count = 0\n",
    "            for item in results['tracks']['items']:\n",
    "                print(count,\"Song: '{}', artist: '{}', album: '{}', duration: {} minutes\".format(item['name'], item['artists'][0]['name'],item['album']['name'], round((item['duration_ms']/60000),2)))\n",
    "                count = count + 1\n",
    "            song_index = int((input(\"Desirable song (row number): \")))\n",
    "            return results['tracks']['items'][song_index]['uri'] \n",
    "\n",
    "        elif len(results['tracks']['items']) == 1:\n",
    "            return results['tracks']['items'][0]['uri'] \n",
    "        else:\n",
    "            return ''\n",
    "    \n",
    "    if ask_for_options == False:\n",
    "        if len(results['tracks']['items']) >= 1:\n",
    "            return results['tracks']['items'][0]['uri']\n",
    "        else:\n",
    "            return ''"
   ]
  },
  {
   "cell_type": "code",
   "execution_count": 8,
   "id": "b9138b0c",
   "metadata": {},
   "outputs": [],
   "source": [
    "def is_hot_song(uri):\n",
    "    return (uri in song_db['uri'].unique()) and ((song_db[song_db['uri'] == uri]['type'] == 'hot')[0])"
   ]
  },
  {
   "cell_type": "code",
   "execution_count": 9,
   "id": "76118960",
   "metadata": {},
   "outputs": [],
   "source": [
    "def search_url(title, artist):\n",
    "    sp = spotipy.Spotify(auth_manager=SpotifyClientCredentials(client_id= Client_ID, client_secret= Client_Secret))\n",
    "    results = sp.search(q=\"track:\"+title+\" artist:\"+artist,limit=10)\n",
    "    song_name=results['tracks']['items'][0]['name']\n",
    "    song_artist=results['tracks']['items'][0]['artists'][0]['name']\n",
    "    song_url=results['tracks']['items'][0]['external_urls']['spotify']\n",
    "    return song_name, song_artist, song_url"
   ]
  },
  {
   "cell_type": "code",
   "execution_count": 10,
   "id": "670e34f3",
   "metadata": {},
   "outputs": [],
   "source": [
    "def get_song():\n",
    "    answer = True\n",
    "    while answer == True:\n",
    "        artist = str(input(\"Please, enter the name of the artist: \"))\n",
    "        song = str(input(\"Please, enter the name of the track: \"))\n",
    "        song_id = search_song(song,artist)\n",
    "        if song_id=='':\n",
    "            print(\"Spotify doesn't recognize that song\")\n",
    "            get_song()\n",
    "        audio_features = pd.DataFrame()\n",
    "        results = sp.audio_features(song_id)\n",
    "        audio_features = pd.concat([audio_features, pd.DataFrame(results)])\n",
    "        y=audio_features[['danceability', 'energy', 'key',\n",
    "       'loudness', 'mode', 'speechiness', 'acousticness', 'instrumentalness',\n",
    "       'liveness', 'tempo', 'time_signature']]\n",
    "        y_scaled=scalar.transform(y)\n",
    "        pred_cluster=model.predict(y_scaled)\n",
    "        if is_hot_song(song_id):\n",
    "            list_of_hot_songs = song_db[song_db['type'] == 'hot']\n",
    "            hot_same_cluster_songs = list_of_hot_songs[list_of_hot_songs['kmeans_7'] == pred_cluster[0]]\n",
    "            sample_song = hot_same_cluster_songs.sample()\n",
    "            sample_artist = sample_song['artist_name']\n",
    "            sample_track = sample_song['track_name']\n",
    "            artist_sample = search_url(sample_track, sample_artist)[1]\n",
    "            track_sample = search_url(sample_track, sample_artist)[0]\n",
    "            url=search_url(sample_track, sample_artist)[2]\n",
    "            print(url)\n",
    "            print(\"Song: \" + track_sample + \" from Artist: \"+ artist_sample)\n",
    "        else:\n",
    "            list_of_not_songs = song_db[song_db['type'] != 'hot']\n",
    "            not_same_cluster_songs = list_of_not_songs[list_of_not_songs['kmeans_7'] == pred_cluster[0]]\n",
    "            sample_song = not_same_cluster_songs.sample()\n",
    "            sample_artist = sample_song['artist_name']\n",
    "            sample_track = sample_song['track_name']\n",
    "            artist_sample = search_url(sample_track, sample_artist)[1]\n",
    "            track_sample = search_url(sample_track, sample_artist)[0]\n",
    "            url=search_url(sample_track, sample_artist)[2]\n",
    "            print(url)\n",
    "            print(\"Song: \" + track_sample + \" from Artist: \"+ artist_sample)\n",
    "        user_answer=str(input(\"Would like to hear another song (yes or no): \"))\n",
    "        if user_answer.lower()=='yes':\n",
    "            answer=True\n",
    "        else:\n",
    "            answer=False"
   ]
  },
  {
   "cell_type": "code",
   "execution_count": 11,
   "id": "2b43b23e",
   "metadata": {},
   "outputs": [
    {
     "name": "stdout",
     "output_type": "stream",
     "text": [
      "Please, enter the name of the artist: Coldplay\n",
      "Please, enter the name of the track: Viva la Vida\n",
      "Searching for song Viva la Vida of artist Coldplay\n",
      "0 Song: 'Viva La Vida', artist: 'Coldplay', album: 'Viva La Vida or Death and All His Friends', duration: 4.04 minutes\n",
      "1 Song: 'Viva La Vida', artist: 'Coldplay', album: 'keeping your head up - trending virals', duration: 4.04 minutes\n",
      "2 Song: 'Viva La Vida', artist: 'Coldplay', album: 'Christmas Break!', duration: 4.04 minutes\n",
      "3 Song: 'Viva La Vida', artist: 'Coldplay', album: 'Happy 00s', duration: 4.04 minutes\n",
      "4 Song: 'Viva La Vida', artist: 'Coldplay', album: 'Viva La Vida (Prospekt's March Edition)', duration: 4.04 minutes\n",
      "5 Song: 'Viva La Vida - Live from Spotify London', artist: 'Coldplay', album: 'Live from Spotify London', duration: 3.9 minutes\n",
      "6 Song: 'Viva La Vida - Live in Buenos Aires', artist: 'Coldplay', album: 'Live in Buenos Aires', duration: 4.18 minutes\n",
      "7 Song: 'Viva La Vida - Live', artist: 'Coldplay', album: 'Live 2012', duration: 4.97 minutes\n",
      "8 Song: 'Viva La Vida', artist: 'Coldplay', album: 'Viva La Vida', duration: 4.04 minutes\n",
      "9 Song: 'Viva La Vida - Live in Paris, 2008', artist: 'Coldplay', album: 'LeftRightLeftRightLeft (Live)', duration: 5.4 minutes\n",
      "Desirable song (row number): 4\n"
     ]
    },
    {
     "name": "stderr",
     "output_type": "stream",
     "text": [
      "/Users/ulanovikova/opt/anaconda3/lib/python3.9/site-packages/sklearn/base.py:450: UserWarning: X does not have valid feature names, but KMeans was fitted with feature names\n",
      "  warnings.warn(\n"
     ]
    },
    {
     "name": "stdout",
     "output_type": "stream",
     "text": [
      "https://open.spotify.com/track/2nxSAQBvF6gDIwZmG6B9nO\n",
      "Song: I Should Be Proud from Artist: Martha Reeves & The Vandellas\n",
      "Would like to hear another song (yes or no): no\n"
     ]
    }
   ],
   "source": [
    "get_song()"
   ]
  },
  {
   "cell_type": "code",
   "execution_count": null,
   "id": "3ba35d05",
   "metadata": {},
   "outputs": [],
   "source": []
  }
 ],
 "metadata": {
  "kernelspec": {
   "display_name": "Python 3 (ipykernel)",
   "language": "python",
   "name": "python3"
  },
  "language_info": {
   "codemirror_mode": {
    "name": "ipython",
    "version": 3
   },
   "file_extension": ".py",
   "mimetype": "text/x-python",
   "name": "python",
   "nbconvert_exporter": "python",
   "pygments_lexer": "ipython3",
   "version": "3.9.12"
  }
 },
 "nbformat": 4,
 "nbformat_minor": 5
}
